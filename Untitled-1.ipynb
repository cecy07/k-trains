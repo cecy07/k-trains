{
 "cells": [
  {
   "cell_type": "code",
   "execution_count": 1,
   "metadata": {},
   "outputs": [],
   "source": [
    "import pandas as pd"
   ]
  },
  {
   "cell_type": "code",
   "execution_count": 2,
   "metadata": {},
   "outputs": [],
   "source": [
    "# Read html template\n",
    "\n",
    "template = 'assets/email-template.html'\n",
    "\n",
    "# read\n",
    "with open(template, 'r') as f:\n",
    "    html = f.read()\n",
    "\n",
    "# replace {{message}} with 'hi'\n",
    "\n",
    "html = html.replace('{{message}}', 'hi')\n",
    "# html = html.replace('{{link}}', 'hi')\n",
    "html = html.replace('{{subject}}', 'hi')\n",
    "\n",
    "linkss = '<td> <a href=\"http://htmlemail.io\" target=\"_blank\">Call To Action</a> </td>'\n",
    "\n",
    "html = html.replace('{{link}}', linkss)\n",
    "\n",
    "\n",
    "# save\n",
    "with open('cacca.html', 'w') as f:\n",
    "    f.write(html)"
   ]
  }
 ],
 "metadata": {
  "kernelspec": {
   "display_name": "Python 3",
   "language": "python",
   "name": "python3"
  },
  "language_info": {
   "codemirror_mode": {
    "name": "ipython",
    "version": 3
   },
   "file_extension": ".py",
   "mimetype": "text/x-python",
   "name": "python",
   "nbconvert_exporter": "python",
   "pygments_lexer": "ipython3",
   "version": "3.10.6"
  },
  "orig_nbformat": 4,
  "vscode": {
   "interpreter": {
    "hash": "767d51c1340bd893661ea55ea3124f6de3c7a262a8b4abca0554b478b1e2ff90"
   }
  }
 },
 "nbformat": 4,
 "nbformat_minor": 2
}
